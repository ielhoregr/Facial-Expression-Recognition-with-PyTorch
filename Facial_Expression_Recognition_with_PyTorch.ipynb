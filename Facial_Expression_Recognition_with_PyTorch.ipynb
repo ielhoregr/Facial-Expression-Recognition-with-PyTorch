{
 "cells": [
  {
   "cell_type": "markdown",
   "metadata": {
    "id": "G_M90-_f3k8m"
   },
   "source": [
    "# Dataset available at kaggle\n",
    "https://www.kaggle.com/jonathanoheix/face-expression-recognition-dataset"
   ]
  },
  {
   "cell_type": "markdown",
   "metadata": {
    "id": "TVZJB6C5vobN"
   },
   "source": [
    "## Project Dependencies"
   ]
  },
  {
   "cell_type": "code",
   "execution_count": 1,
   "metadata": {
    "id": "creZrxH0vv20"
   },
   "outputs": [],
   "source": [
    "import numpy as np\n",
    "import matplotlib.pyplot as plt\n",
    "import torch\n",
    "import cv2\n",
    "from torchvision.datasets import ImageFolder\n",
    "from torchvision import transforms as T\n",
    "from torch.utils.data import DataLoader\n",
    "import timm  \n",
    "from torch import nn\n",
    "from tqdm import tqdm "
   ]
  },
  {
   "cell_type": "markdown",
   "metadata": {
    "id": "p5604GKdwtAr"
   },
   "source": [
    "# Configurations"
   ]
  },
  {
   "cell_type": "code",
   "execution_count": 2,
   "metadata": {
    "id": "dd6v8vyGwp3F"
   },
   "outputs": [],
   "source": [
    "TRAIN_IMG_FOLDER_PATH = 'Facial-Expression-Dataset/train'\n",
    "VALID_IMG_FOLDER_PATH = 'Facial-Expression-Dataset/validation/'\n",
    "\n",
    "LR = .001\n",
    "BATCH_SIZE = 32\n",
    "EPOCHS = 15\n",
    "\n",
    "DEVICE = 'cpu'\n",
    "\n",
    "\n",
    "MODEL_NAME = 'efficientnet_b0'\n"
   ]
  },
  {
   "cell_type": "markdown",
   "metadata": {
    "id": "wn5jWAF9xDUY"
   },
   "source": [
    "## Dataset loading and data augmentation"
   ]
  },
  {
   "cell_type": "code",
   "execution_count": 3,
   "metadata": {
    "id": "Jqf-Ktqsx9WL"
   },
   "outputs": [],
   "source": [
    "train_augs = T.Compose([  # compose several transformations sequentially together\n",
    "    T.RandomHorizontalFlip(p = 0.5),\n",
    "    T.RandomRotation(degrees= (-20, +20)),\n",
    "    T.ToTensor() # convert PIL/numpy -> PyTorch Tensor , normalizing the pixel intesity [0, 255] to [0,1]\n",
    "                        ])\n",
    "\n",
    "valid_augs = T.Compose([\n",
    "    T.ToTensor()\n",
    "])\n"
   ]
  },
  {
   "cell_type": "code",
   "execution_count": 4,
   "metadata": {
    "id": "oeU1NfmYxC7J"
   },
   "outputs": [],
   "source": [
    "trainset = ImageFolder(TRAIN_IMG_FOLDER_PATH, transform = train_augs)\n",
    "validset = ImageFolder(VALID_IMG_FOLDER_PATH, transform = valid_augs)"
   ]
  },
  {
   "cell_type": "code",
   "execution_count": 5,
   "metadata": {
    "colab": {
     "base_uri": "https://localhost:8080/"
    },
    "id": "eznRIKAzzuCj",
    "outputId": "8ab52f43-952a-49f4-a36d-d6cd60583e0f"
   },
   "outputs": [
    {
     "name": "stdout",
     "output_type": "stream",
     "text": [
      "Total no. of examples in trainset : 28821\n",
      "Total no. of examples in validset : 7066\n"
     ]
    }
   ],
   "source": [
    "print(f\"Total no. of examples in trainset : {len(trainset)}\")\n",
    "print(f\"Total no. of examples in validset : {len(validset)}\")"
   ]
  },
  {
   "cell_type": "code",
   "execution_count": 6,
   "metadata": {
    "colab": {
     "base_uri": "https://localhost:8080/"
    },
    "id": "NtoA4SRny_vz",
    "outputId": "802119a4-9714-4156-e0ca-b4c7c7787dbb"
   },
   "outputs": [
    {
     "name": "stdout",
     "output_type": "stream",
     "text": [
      "{'angry': 0, 'disgust': 1, 'fear': 2, 'happy': 3, 'neutral': 4, 'sad': 5, 'surprise': 6}\n"
     ]
    }
   ],
   "source": [
    "print(trainset.class_to_idx)"
   ]
  },
  {
   "cell_type": "code",
   "execution_count": 8,
   "metadata": {
    "colab": {
     "base_uri": "https://localhost:8080/",
     "height": 469
    },
    "id": "0-b1SLqNw91J",
    "outputId": "84b1fc99-cb5d-456d-bc2f-7b379cc67a14"
   },
   "outputs": [
    {
     "data": {
      "text/plain": [
       "Text(0.5, 1.0, '0')"
      ]
     },
     "execution_count": 8,
     "metadata": {},
     "output_type": "execute_result"
    },
    {
     "data": {
      "image/png": "[encoded data removed]",
      "text/plain": [
       "<Figure size 640x480 with 1 Axes>"
      ]
     },
     "metadata": {},
     "output_type": "display_data"
    }
   ],
   "source": [
    "idx = 40 # Arbitrary index\n",
    "image, label = trainset[idx]\n",
    "plt.imshow(image.permute(1, 2, 0))\n",
    "plt.title(label)"
   ]
  },
  {
   "cell_type": "markdown",
   "metadata": {
    "id": "UjVmykAGy0Sh"
   },
   "source": [
    "## Load Dataset into Batches"
   ]
  },
  {
   "cell_type": "code",
   "execution_count": 7,
   "metadata": {
    "id": "Pea8G9-HzhuZ"
   },
   "outputs": [],
   "source": [
    "trainloader = DataLoader(trainset, batch_size = BATCH_SIZE, shuffle= True)\n",
    "validloader = DataLoader(validset, batch_size = BATCH_SIZE)\n"
   ]
  },
  {
   "cell_type": "code",
   "execution_count": 8,
   "metadata": {
    "colab": {
     "base_uri": "https://localhost:8080/"
    },
    "id": "mjf9oeOBzihh",
    "outputId": "f1d430f6-1931-4218-aa1d-0885dcca1945"
   },
   "outputs": [
    {
     "name": "stdout",
     "output_type": "stream",
     "text": [
      "Total no. of batches in trainloader : 901\n",
      "Total no. of batches in validloader : 221\n"
     ]
    }
   ],
   "source": [
    "print(f\"Total no. of batches in trainloader : {len(trainloader)}\")  # len(trainset) / batch_size\n",
    "print(f\"Total no. of batches in validloader : {len(validloader)}\")"
   ]
  },
  {
   "cell_type": "code",
   "execution_count": 9,
   "metadata": {
    "colab": {
     "base_uri": "https://localhost:8080/"
    },
    "id": "vtVSVVj-zp1C",
    "outputId": "07ec37d3-3d24-4379-effe-3bb2b3b6f67d"
   },
   "outputs": [
    {
     "name": "stdout",
     "output_type": "stream",
     "text": [
      "One image batch shape : torch.Size([32, 3, 48, 48])\n",
      "One label batch shape : torch.Size([32])\n"
     ]
    }
   ],
   "source": [
    "for images, labels in trainloader:\n",
    "  break ; # take the first batch only\n",
    "\n",
    "print(f\"One image batch shape : {images.shape}\") # [batchsize, channels, height, wedith]\n",
    "print(f\"One label batch shape : {labels.shape}\")\n"
   ]
  },
  {
   "cell_type": "markdown",
   "metadata": {
    "id": "GQvgvbKu0TUG"
   },
   "source": [
    "# Create Model"
   ]
  },
  {
   "cell_type": "code",
   "execution_count": 10,
   "metadata": {
    "id": "U6uJZmUw0XJX"
   },
   "outputs": [],
   "source": [
    "class FaceModel(nn.Module):\n",
    "  def __init__(self):\n",
    "    super(FaceModel, self).__init__()\n",
    "\n",
    "    self.eff_net = timm.create_model( MODEL_NAME, pretrained= True , num_classes = 7)\n",
    "\n",
    "  def forward(self, images, labels = None):\n",
    "    logits = self.eff_net(images)\n",
    "\n",
    "    if labels != None:\n",
    "      loss = nn.CrossEntropyLoss()(logits, labels)\n",
    "      return logits, loss\n",
    "\n",
    "    return logits"
   ]
  },
  {
   "cell_type": "code",
   "execution_count": 11,
   "metadata": {
    "colab": {
     "base_uri": "https://localhost:8080/",
     "height": 153,
     "referenced_widgets": [
      "2ed7fc704dcf434d865700f20cf3cc2e",
      "39acdda891bc4368bbe6eb9128488940",
      "f96b5241323640dc81f21be9462c613f",
      "e7881f0ba24b42dda30b884aa6c4110b",
      "316004dd98f84263a0f3b2e87198dd8a",
      "429299b37d1d4e459d370e38c5d3435b",
      "8d9f3e51ac734b68b1b54c4e404d9bcb",
      "75d1b302a99649fbaa203d7bff7ff884",
      "3db8f537a59c45e4adbde43360b8194c",
      "6614ddd82bc641dcb336281e4227c688",
      "ccb3f2ec04f442b68eebef0f94b864b2"
     ]
    },
    "id": "hgp5OjEO0_2w",
    "outputId": "6be347e5-5f79-4583-9811-10fb805f1bc0"
   },
   "outputs": [],
   "source": [
    "model = FaceModel()\n",
    "model.to(DEVICE);"
   ]
  },
  {
   "cell_type": "markdown",
   "metadata": {
    "id": "GzDb6TdaCpF5"
   },
   "source": [
    "# Create Train and Eval Function"
   ]
  },
  {
   "cell_type": "code",
   "execution_count": 12,
   "metadata": {
    "id": "esp-tSrxTiPX"
   },
   "outputs": [],
   "source": [
    "def multiclass_accuracy(y_pred,y_true):\n",
    "    top_p,top_class = y_pred.topk(1,dim = 1)\n",
    "    equals = top_class == y_true.view(*top_class.shape)\n",
    "    return torch.mean(equals.type(torch.FloatTensor))"
   ]
  },
  {
   "cell_type": "code",
   "execution_count": 15,
   "metadata": {
    "id": "QBim_pZxColX"
   },
   "outputs": [],
   "source": [
    "def train_fn(model, dataloader, optimizer, current_epo):\n",
    "\n",
    "  # set model to train mode\n",
    "  model.train()\n",
    "\n",
    "  # keep track of the total loss and accuracy over all batches\n",
    "  total_loss = 0.0\n",
    "  total_acc = 0.0\n",
    "\n",
    "  # provide a visual feedback on the training process\n",
    "  tk = tqdm(dataloader, desc = \"EPOCH\" + \"[TRAIN]\" + str(current_epo +1) + \"/\" + str(EPOCHS))\n",
    "\n",
    "  # iterate over dataloader\n",
    "  for t, data in enumerate(tk):\n",
    "    images, labels = data\n",
    "    images, labels = images.to(DEVICE), labels.to(DEVICE)\n",
    "\n",
    "    optimizer.zero_grad() # clears the gradients for all optimized tensors\n",
    "      \n",
    "    # perform a forward pass through the model to obtain the logits and compute the loss using provided images.\n",
    "    logits, loss = model(images, labels)\n",
    "\n",
    "    #compute gradient\n",
    "    loss.backward()\n",
    "\n",
    "    # update the model parameter based on the computed gradient\n",
    "    optimizer.step()\n",
    "\n",
    "    # update loss : addes the current batch loss to the total loss\n",
    "    total_loss += loss.item()\n",
    "\n",
    "    # update accuracy\n",
    "    total_acc += multiclass_accuracy(logits, labels)\n",
    "\n",
    "    # update progress bar for the current loss and  and accuracy informatino for the batch\n",
    "    tk.set_postfix({'loss' : '%6f' %float(total_loss / (t+1)), 'acc' : '%6f' %float(total_acc / (t+1))})\n",
    "\n",
    "  # return average loss and accuracy\n",
    "  return total_loss / len(dataloader), total_acc / len(dataloader)\n"
   ]
  },
  {
   "cell_type": "code",
   "execution_count": 16,
   "metadata": {
    "id": "T3eGYNqR1FeL"
   },
   "outputs": [],
   "source": [
    "def eval_fn(model, dataloader,  current_epo):\n",
    "  model.eval()\n",
    "  total_loss = 0.0\n",
    "  total_acc = 0.0\n",
    "  tk = tqdm(dataloader, desc = \"EPOCH\" + \"[VALID]\" + str(current_epo +1) + \"/\" + str(EPOCHS))\n",
    "\n",
    "  for t, data in enumerate(tk):\n",
    "    images, labels = data\n",
    "    images, labels = images.to(DEVICE), labels.to(DEVICE)\n",
    "    logits, loss = model(images, labels)\n",
    "\n",
    "    total_loss += loss.item()\n",
    "    total_acc += multiclass_accuracy(logits, labels)\n",
    "    tk.set_postfix({'loss' : '%6f' %float(total_loss / (t+1)), 'acc' : '%6f' %float(total_acc / (t+1))})\n",
    "\n",
    "  return total_loss / len(dataloader), total_acc / len(dataloader)"
   ]
  },
  {
   "cell_type": "markdown",
   "metadata": {
    "id": "f2YsWQvsXiKG"
   },
   "source": [
    "# Create Training Loop"
   ]
  },
  {
   "cell_type": "code",
   "execution_count": 17,
   "metadata": {
    "id": "mbKd9D7pWeM_"
   },
   "outputs": [],
   "source": [
    "optimizer = torch.optim.Adam(model.parameters(), lr = LR)"
   ]
  },
  {
   "cell_type": "code",
   "execution_count": 27,
   "metadata": {
    "colab": {
     "base_uri": "https://localhost:8080/"
    },
    "id": "E8yzdLmLXkC-",
    "outputId": "00a16015-ffe4-48f4-91f4-aaaba57d22c0"
   },
   "outputs": [
    {
     "name": "stderr",
     "output_type": "stream",
     "text": [
      "EPOCH[TRAIN]1/15: 100%|██████████| 901/901 [01:06<00:00, 13.45it/s, loss=1.874148, acc=0.366770]\n",
      "EPOCH[VALID]1/15: 100%|██████████| 221/221 [00:06<00:00, 32.42it/s, loss=1.616050, acc=0.489286]\n"
     ]
    },
    {
     "name": "stdout",
     "output_type": "stream",
     "text": [
      "SAVED-BEST-WEIGHTS\n"
     ]
    },
    {
     "name": "stderr",
     "output_type": "stream",
     "text": [
      "EPOCH[TRAIN]2/15: 100%|██████████| 901/901 [00:51<00:00, 17.59it/s, loss=1.309919, acc=0.501470]\n",
      "EPOCH[VALID]2/15: 100%|██████████| 221/221 [00:06<00:00, 33.24it/s, loss=1.197593, acc=0.547185]\n"
     ]
    },
    {
     "name": "stdout",
     "output_type": "stream",
     "text": [
      "SAVED-BEST-WEIGHTS\n"
     ]
    },
    {
     "name": "stderr",
     "output_type": "stream",
     "text": [
      "EPOCH[TRAIN]3/15: 100%|██████████| 901/901 [00:49<00:00, 18.18it/s, loss=1.204195, acc=0.545688]\n",
      "EPOCH[VALID]3/15: 100%|██████████| 221/221 [00:06<00:00, 31.74it/s, loss=1.148980, acc=0.569527]\n"
     ]
    },
    {
     "name": "stdout",
     "output_type": "stream",
     "text": [
      "SAVED-BEST-WEIGHTS\n"
     ]
    },
    {
     "name": "stderr",
     "output_type": "stream",
     "text": [
      "EPOCH[TRAIN]4/15: 100%|██████████| 901/901 [00:50<00:00, 17.84it/s, loss=1.139820, acc=0.568251]\n",
      "EPOCH[VALID]4/15: 100%|██████████| 221/221 [00:06<00:00, 35.77it/s, loss=1.109511, acc=0.586528]\n"
     ]
    },
    {
     "name": "stdout",
     "output_type": "stream",
     "text": [
      "SAVED-BEST-WEIGHTS\n"
     ]
    },
    {
     "name": "stderr",
     "output_type": "stream",
     "text": [
      "EPOCH[TRAIN]5/15: 100%|██████████| 901/901 [00:51<00:00, 17.67it/s, loss=1.098359, acc=0.587239]\n",
      "EPOCH[VALID]5/15: 100%|██████████| 221/221 [00:06<00:00, 32.13it/s, loss=1.056870, acc=0.601973]\n"
     ]
    },
    {
     "name": "stdout",
     "output_type": "stream",
     "text": [
      "SAVED-BEST-WEIGHTS\n"
     ]
    },
    {
     "name": "stderr",
     "output_type": "stream",
     "text": [
      "EPOCH[TRAIN]6/15: 100%|██████████| 901/901 [00:49<00:00, 18.31it/s, loss=1.070979, acc=0.597663]\n",
      "EPOCH[VALID]6/15: 100%|██████████| 221/221 [00:06<00:00, 32.14it/s, loss=1.029614, acc=0.607270]\n"
     ]
    },
    {
     "name": "stdout",
     "output_type": "stream",
     "text": [
      "SAVED-BEST-WEIGHTS\n"
     ]
    },
    {
     "name": "stderr",
     "output_type": "stream",
     "text": [
      "EPOCH[TRAIN]7/15: 100%|██████████| 901/901 [00:50<00:00, 17.95it/s, loss=1.036529, acc=0.612525]\n",
      "EPOCH[VALID]7/15: 100%|██████████| 221/221 [00:06<00:00, 36.55it/s, loss=1.052684, acc=0.606248]\n",
      "EPOCH[TRAIN]8/15: 100%|██████████| 901/901 [00:50<00:00, 17.97it/s, loss=1.011262, acc=0.619596]\n",
      "EPOCH[VALID]8/15: 100%|██████████| 221/221 [00:06<00:00, 35.62it/s, loss=1.024220, acc=0.616722]\n"
     ]
    },
    {
     "name": "stdout",
     "output_type": "stream",
     "text": [
      "SAVED-BEST-WEIGHTS\n"
     ]
    },
    {
     "name": "stderr",
     "output_type": "stream",
     "text": [
      "EPOCH[TRAIN]9/15: 100%|██████████| 901/901 [00:49<00:00, 18.11it/s, loss=0.982755, acc=0.633697]\n",
      "EPOCH[VALID]9/15: 100%|██████████| 221/221 [00:06<00:00, 31.98it/s, loss=1.007906, acc=0.629405]\n"
     ]
    },
    {
     "name": "stdout",
     "output_type": "stream",
     "text": [
      "SAVED-BEST-WEIGHTS\n"
     ]
    },
    {
     "name": "stderr",
     "output_type": "stream",
     "text": [
      "EPOCH[TRAIN]10/15: 100%|██████████| 901/901 [00:49<00:00, 18.14it/s, loss=0.952564, acc=0.645942]\n",
      "EPOCH[VALID]10/15: 100%|██████████| 221/221 [00:06<00:00, 34.36it/s, loss=0.999172, acc=0.626686]\n"
     ]
    },
    {
     "name": "stdout",
     "output_type": "stream",
     "text": [
      "SAVED-BEST-WEIGHTS\n"
     ]
    },
    {
     "name": "stderr",
     "output_type": "stream",
     "text": [
      "EPOCH[TRAIN]11/15: 100%|██████████| 901/901 [00:50<00:00, 17.97it/s, loss=0.924062, acc=0.654836]\n",
      "EPOCH[VALID]11/15: 100%|██████████| 221/221 [00:06<00:00, 36.00it/s, loss=0.987602, acc=0.641805]\n"
     ]
    },
    {
     "name": "stdout",
     "output_type": "stream",
     "text": [
      "SAVED-BEST-WEIGHTS\n"
     ]
    },
    {
     "name": "stderr",
     "output_type": "stream",
     "text": [
      "EPOCH[TRAIN]12/15: 100%|██████████| 901/901 [00:49<00:00, 18.05it/s, loss=0.896433, acc=0.669352]\n",
      "EPOCH[VALID]12/15: 100%|██████████| 221/221 [00:06<00:00, 31.86it/s, loss=1.037861, acc=0.620562]\n",
      "EPOCH[TRAIN]13/15: 100%|██████████| 901/901 [00:49<00:00, 18.25it/s, loss=0.868916, acc=0.676241]\n",
      "EPOCH[VALID]13/15: 100%|██████████| 221/221 [00:06<00:00, 32.54it/s, loss=1.005536, acc=0.631233]\n",
      "EPOCH[TRAIN]14/15: 100%|██████████| 901/901 [00:49<00:00, 18.04it/s, loss=0.840029, acc=0.687026]\n",
      "EPOCH[VALID]14/15: 100%|██████████| 221/221 [00:06<00:00, 36.36it/s, loss=0.990552, acc=0.644742]\n",
      "EPOCH[TRAIN]15/15: 100%|██████████| 901/901 [00:50<00:00, 17.90it/s, loss=0.809394, acc=0.700381]\n",
      "EPOCH[VALID]15/15: 100%|██████████| 221/221 [00:06<00:00, 33.43it/s, loss=0.956868, acc=0.649517]\n"
     ]
    },
    {
     "name": "stdout",
     "output_type": "stream",
     "text": [
      "SAVED-BEST-WEIGHTS\n"
     ]
    }
   ],
   "source": [
    "best_valid_loss = np.Inf  # set best valid to + infinity\n",
    "\n",
    "for i in range(EPOCHS):\n",
    "  train_loss, train_acc = train_fn(model, trainloader, optimizer, i)\n",
    "  valid_loss, valid_acc = eval_fn(model, validloader, i)\n",
    "\n",
    "  if valid_loss < best_valid_loss:\n",
    "    torch.save(model.state_dict(), 'best-weights.pt') # save the current valid loss \n",
    "    print(\"SAVED-BEST-WEIGHTS\")\n",
    "    best_valid_loss = valid_loss  # update the best valid\n"
   ]
  },
  {
   "cell_type": "markdown",
   "metadata": {
    "id": "cjiklrErXkZ6"
   },
   "source": [
    "# Inference"
   ]
  },
  {
   "cell_type": "code",
   "execution_count": 18,
   "metadata": {
    "id": "8iozgi4xhLNg"
   },
   "outputs": [],
   "source": [
    "def view_classify(img, ps):\n",
    "\n",
    "    classes = ['angry', 'disgust', 'fear', 'happy', 'neutral', 'sad', 'surprise']\n",
    "\n",
    "    ps = ps.data.cpu().numpy().squeeze()\n",
    "    img = img.numpy().transpose(1,2,0)\n",
    "\n",
    "    fig, (ax1, ax2) = plt.subplots(figsize=(5,9), ncols=2)\n",
    "    ax1.imshow(img)\n",
    "    ax1.axis('off')\n",
    "    ax2.barh(classes, ps)\n",
    "    ax2.set_aspect(0.1)\n",
    "    ax2.set_yticks(classes)\n",
    "    ax2.set_yticklabels(classes)\n",
    "    ax2.set_title('Class Probability')\n",
    "    ax2.set_xlim(0, 1.1)\n",
    "\n",
    "    plt.tight_layout()\n",
    "\n",
    "    return None"
   ]
  },
  {
   "cell_type": "code",
   "execution_count": 21,
   "metadata": {
    "colab": {
     "base_uri": "https://localhost:8080/"
    },
    "id": "y_QZvnUGXmOf",
    "outputId": "2014948a-73ad-4a5f-8772-919b3882e070"
   },
   "outputs": [
    {
     "name": "stdout",
     "output_type": "stream",
     "text": [
      "Predicted emotion class: is [neutral] And The Ground Truth Label is  [neutral]\n"
     ]
    }
   ],
   "source": [
    "classes = ['angry', 'disgust', 'fear', 'happy', 'neutral', 'sad', 'surprise']\n",
    "from PIL import Image\n",
    "# Define a function to preprocess the input image\n",
    "def preprocess_image(image_path):\n",
    "    transform = T.Compose([\n",
    "        T.Resize((48, 48)),\n",
    "        T.ToTensor(),\n",
    "    ])\n",
    "    image = Image.open(image_path).convert('RGB')\n",
    "    image = transform(image).unsqueeze(0)  # Add batch dimension\n",
    "    return image\n",
    "\n",
    "def preprocess_image_vid(image):\n",
    "    transform = T.Compose([\n",
    "        T.Resize((48, 48)),\n",
    "        T.ToTensor(),\n",
    "    ])\n",
    "    image = transform(image).unsqueeze(0)  # Add batch dimension\n",
    "    return image\n",
    "\n",
    "# Define a function to perform inference\n",
    "# Define a function to perform inference\n",
    "def predict_emotion(model, image):\n",
    "    model.eval() #sets the model for evaluation mode\n",
    "    image = image.to(DEVICE) # move image to device\n",
    "    with torch.no_grad():  # Disable calculating gradient(training the model)\n",
    "        output = model(image) #pass the image to obtain the logits\n",
    "        probabilities = torch.softmax(output, dim=1) # compute the probabilities using softmax\n",
    "        predicted_class = torch.argmax(probabilities).item() # find the index with the max probabilitites\n",
    "    return predicted_class, probabilities\n",
    "\n",
    "# Load the model\n",
    "model = FaceModel()\n",
    "model.load_state_dict(torch.load('best-weights.pt'))  # load pre-trained model\n",
    "model.to(DEVICE)\n",
    "\n",
    "# test \n",
    "image, label = validset[5000]\n",
    "image.unsqueeze_(0)\n",
    "predicted_class, probabilities = predict_emotion(model, image)\n",
    "print(f\"Predicted emotion class: is [{classes[predicted_class]}] And The Ground Truth Label is  [{classes[label]}]\")"
   ]
  },
  {
   "cell_type": "code",
   "execution_count": 22,
   "metadata": {
    "colab": {
     "base_uri": "https://localhost:8080/",
     "height": 231
    },
    "id": "8iHdG4YPOp21",
    "outputId": "951fe158-db60-4c5a-fb71-5cfa63580d44"
   },
   "outputs": [
    {
     "data": {
      "image/png": "[encoded data removed]",
      "text/plain": [
       "<Figure size 500x900 with 2 Axes>"
      ]
     },
     "metadata": {},
     "output_type": "display_data"
    }
   ],
   "source": [
    "view_classify(image.squeeze(), probabilities)"
   ]
  },
  {
   "cell_type": "code",
   "execution_count": 23,
   "metadata": {
    "colab": {
     "base_uri": "https://localhost:8080/",
     "height": 231
    },
    "id": "8iHdG4YPOp21",
    "outputId": "951fe158-db60-4c5a-fb71-5cfa63580d44"
   },
   "outputs": [
    {
     "name": "stdout",
     "output_type": "stream",
     "text": [
      "surprise\n"
     ]
    }
   ],
   "source": [
    "img_path = 'surprise.jpg'\n",
    "label = 'surprise'\n",
    "image = preprocess_image(img_path)\n",
    "predicted_class, probabilities = predict_emotion(model, image)\n",
    "print(classes[predicted_class]) "
   ]
  },
  {
   "cell_type": "code",
   "execution_count": 24,
   "metadata": {},
   "outputs": [
    {
     "data": {
      "image/png": "[encoded data removed]",
      "text/plain": [
       "<Figure size 500x900 with 2 Axes>"
      ]
     },
     "metadata": {},
     "output_type": "display_data"
    }
   ],
   "source": [
    "view_classify(image.squeeze(), probabilities)"
   ]
  },
  {
   "cell_type": "markdown",
   "metadata": {},
   "source": [
    "## Intergrate With openCv"
   ]
  },
  {
   "cell_type": "code",
   "execution_count": 33,
   "metadata": {
    "id": "Ufjc_FoESC3l"
   },
   "outputs": [
    {
     "name": "stdout",
     "output_type": "stream",
     "text": [
      "Well I Think The Clinet is neutral\n",
      "Well I Think The Clinet is happy\n",
      "Well I Think The Clinet is happy\n",
      "Well I Think The Clinet is happy\n",
      "Well I Think The Clinet is happy\n",
      "Well I Think The Clinet is neutral\n",
      "Well I Think The Clinet is neutral\n"
     ]
    }
   ],
   "source": [
    "import cv2 as cv \n",
    "from collections import Counter\n",
    "\n",
    "model = FaceModel()\n",
    "model.load_state_dict(torch.load('best-weights.pt'))\n",
    "model.to(DEVICE)\n",
    "\n",
    "classes = ['angry', 'disgust', 'fear', 'happy', 'neutral', 'sad', 'surprise']\n",
    "\n",
    "predict_list = [] \n",
    "\n",
    "cap = cv.VideoCapture(\"test2.mp4\") \n",
    "\n",
    "while True:\n",
    "\n",
    "    ret, frame = cap.read()\n",
    "    frame = cv.resize(frame, (1366, 768))\n",
    "    if not ret :\n",
    "        break ; \n",
    "\n",
    "    face_detector = cv.CascadeClassifier(\"haarcascade_frontalface_default.xml\") \n",
    "    num_faces = face_detector.detectMultiScale(frame, scaleFactor = 1.3, minNeighbors = 5) \n",
    "\n",
    "    for (x, y, w, h) in num_faces: # for every face in pic\n",
    "        cv2.rectangle(frame, (x, y-50), (x+w, y+h+10), (0, 255, 0), 4) #Draw rectange\n",
    "        roi_frame = frame[y:y + h, x:x + w] #crop face from frame\n",
    "        roi_RGB_frame = cv.cvtColor(roi_frame, cv2.COLOR_BGR2RGB) # convert to 3 channel to suite the model\n",
    "        cropped_img = Image.fromarray(roi_RGB_frame)  # convert to PIL to suite preprocess func\n",
    "\n",
    "        torch_img = preprocess_image_vid(cropped_img)\n",
    "        pred, prob = predict_emotion(model, torch_img)\n",
    "        predict_list.append(pred)\n",
    "                                         \n",
    "        if len(predict_list) == 60 :\n",
    "            counter = Counter(predict_list)          \n",
    "            most_common_element, frequency = counter.most_common(1)[0]\n",
    "            print(f\"Well I Think The Clinet is {classes[most_common_element]}\")\n",
    "            predict_list = []\n",
    "                                         \n",
    "        cv2.putText(frame, classes[pred], (x+5, y-20), cv2.FONT_HERSHEY_SIMPLEX, 1, (255, 0, 0), 2, cv2.LINE_AA)\n",
    "\n",
    "    cv2.imshow('Emotion Detection', frame)\n",
    "    if cv2.waitKey(1) & 0xFF == ord('q'):\n",
    "        break\n",
    "\n",
    "cap.release()\n",
    "cv2.destroyAllWindows()"
   ]
  },
  {
   "cell_type": "code",
   "execution_count": null,
   "metadata": {},
   "outputs": [],
   "source": []
  }
 ],
 "metadata": {
  "accelerator": "GPU",
  "colab": {
   "gpuType": "T4",
   "provenance": []
  },
  "kernelspec": {
   "display_name": "Python 3 (ipykernel)",
   "language": "python",
   "name": "python3"
  },
  "language_info": {
   "codemirror_mode": {
    "name": "ipython",
    "version": 3
   },
   "file_extension": ".py",
   "mimetype": "text/x-python",
   "name": "python",
   "nbconvert_exporter": "python",
   "pygments_lexer": "ipython3",
   "version": "3.12.3"
  },
  "widgets": {
   "application/vnd.jupyter.widget-state+json": {
    "2ed7fc704dcf434d865700f20cf3cc2e": {
     "model_module": "@jupyter-widgets/controls",
     "model_module_version": "1.5.0",
     "model_name": "HBoxModel",
     "state": {
      "_dom_classes": [],
      "_model_module": "@jupyter-widgets/controls",
      "_model_module_version": "1.5.0",
      "_model_name": "HBoxModel",
      "_view_count": null,
      "_view_module": "@jupyter-widgets/controls",
      "_view_module_version": "1.5.0",
      "_view_name": "HBoxView",
      "box_style": "",
      "children": [
       "IPY_MODEL_39acdda891bc4368bbe6eb9128488940",
       "IPY_MODEL_f96b5241323640dc81f21be9462c613f",
       "IPY_MODEL_e7881f0ba24b42dda30b884aa6c4110b"
      ],
      "layout": "IPY_MODEL_316004dd98f84263a0f3b2e87198dd8a"
     }
    },
    "316004dd98f84263a0f3b2e87198dd8a": {
     "model_module": "@jupyter-widgets/base",
     "model_module_version": "1.2.0",
     "model_name": "LayoutModel",
     "state": {
      "_model_module": "@jupyter-widgets/base",
      "_model_module_version": "1.2.0",
      "_model_name": "LayoutModel",
      "_view_count": null,
      "_view_module": "@jupyter-widgets/base",
      "_view_module_version": "1.2.0",
      "_view_name": "LayoutView",
      "align_content": null,
      "align_items": null,
      "align_self": null,
      "border": null,
      "bottom": null,
      "display": null,
      "flex": null,
      "flex_flow": null,
      "grid_area": null,
      "grid_auto_columns": null,
      "grid_auto_flow": null,
      "grid_auto_rows": null,
      "grid_column": null,
      "grid_gap": null,
      "grid_row": null,
      "grid_template_areas": null,
      "grid_template_columns": null,
      "grid_template_rows": null,
      "height": null,
      "justify_content": null,
      "justify_items": null,
      "left": null,
      "margin": null,
      "max_height": null,
      "max_width": null,
      "min_height": null,
      "min_width": null,
      "object_fit": null,
      "object_position": null,
      "order": null,
      "overflow": null,
      "overflow_x": null,
      "overflow_y": null,
      "padding": null,
      "right": null,
      "top": null,
      "visibility": null,
      "width": null
     }
    },
    "39acdda891bc4368bbe6eb9128488940": {
     "model_module": "@jupyter-widgets/controls",
     "model_module_version": "1.5.0",
     "model_name": "HTMLModel",
     "state": {
      "_dom_classes": [],
      "_model_module": "@jupyter-widgets/controls",
      "_model_module_version": "1.5.0",
      "_model_name": "HTMLModel",
      "_view_count": null,
      "_view_module": "@jupyter-widgets/controls",
      "_view_module_version": "1.5.0",
      "_view_name": "HTMLView",
      "description": "",
      "description_tooltip": null,
      "layout": "IPY_MODEL_429299b37d1d4e459d370e38c5d3435b",
      "placeholder": "​",
      "style": "IPY_MODEL_8d9f3e51ac734b68b1b54c4e404d9bcb",
      "value": "model.safetensors: 100%"
     }
    },
    "3db8f537a59c45e4adbde43360b8194c": {
     "model_module": "@jupyter-widgets/controls",
     "model_module_version": "1.5.0",
     "model_name": "ProgressStyleModel",
     "state": {
      "_model_module": "@jupyter-widgets/controls",
      "_model_module_version": "1.5.0",
      "_model_name": "ProgressStyleModel",
      "_view_count": null,
      "_view_module": "@jupyter-widgets/base",
      "_view_module_version": "1.2.0",
      "_view_name": "StyleView",
      "bar_color": null,
      "description_width": ""
     }
    },
    "429299b37d1d4e459d370e38c5d3435b": {
     "model_module": "@jupyter-widgets/base",
     "model_module_version": "1.2.0",
     "model_name": "LayoutModel",
     "state": {
      "_model_module": "@jupyter-widgets/base",
      "_model_module_version": "1.2.0",
      "_model_name": "LayoutModel",
      "_view_count": null,
      "_view_module": "@jupyter-widgets/base",
      "_view_module_version": "1.2.0",
      "_view_name": "LayoutView",
      "align_content": null,
      "align_items": null,
      "align_self": null,
      "border": null,
      "bottom": null,
      "display": null,
      "flex": null,
      "flex_flow": null,
      "grid_area": null,
      "grid_auto_columns": null,
      "grid_auto_flow": null,
      "grid_auto_rows": null,
      "grid_column": null,
      "grid_gap": null,
      "grid_row": null,
      "grid_template_areas": null,
      "grid_template_columns": null,
      "grid_template_rows": null,
      "height": null,
      "justify_content": null,
      "justify_items": null,
      "left": null,
      "margin": null,
      "max_height": null,
      "max_width": null,
      "min_height": null,
      "min_width": null,
      "object_fit": null,
      "object_position": null,
      "order": null,
      "overflow": null,
      "overflow_x": null,
      "overflow_y": null,
      "padding": null,
      "right": null,
      "top": null,
      "visibility": null,
      "width": null
     }
    },
    "6614ddd82bc641dcb336281e4227c688": {
     "model_module": "@jupyter-widgets/base",
     "model_module_version": "1.2.0",
     "model_name": "LayoutModel",
     "state": {
      "_model_module": "@jupyter-widgets/base",
      "_model_module_version": "1.2.0",
      "_model_name": "LayoutModel",
      "_view_count": null,
      "_view_module": "@jupyter-widgets/base",
      "_view_module_version": "1.2.0",
      "_view_name": "LayoutView",
      "align_content": null,
      "align_items": null,
      "align_self": null,
      "border": null,
      "bottom": null,
      "display": null,
      "flex": null,
      "flex_flow": null,
      "grid_area": null,
      "grid_auto_columns": null,
      "grid_auto_flow": null,
      "grid_auto_rows": null,
      "grid_column": null,
      "grid_gap": null,
      "grid_row": null,
      "grid_template_areas": null,
      "grid_template_columns": null,
      "grid_template_rows": null,
      "height": null,
      "justify_content": null,
      "justify_items": null,
      "left": null,
      "margin": null,
      "max_height": null,
      "max_width": null,
      "min_height": null,
      "min_width": null,
      "object_fit": null,
      "object_position": null,
      "order": null,
      "overflow": null,
      "overflow_x": null,
      "overflow_y": null,
      "padding": null,
      "right": null,
      "top": null,
      "visibility": null,
      "width": null
     }
    },
    "75d1b302a99649fbaa203d7bff7ff884": {
     "model_module": "@jupyter-widgets/base",
     "model_module_version": "1.2.0",
     "model_name": "LayoutModel",
     "state": {
      "_model_module": "@jupyter-widgets/base",
      "_model_module_version": "1.2.0",
      "_model_name": "LayoutModel",
      "_view_count": null,
      "_view_module": "@jupyter-widgets/base",
      "_view_module_version": "1.2.0",
      "_view_name": "LayoutView",
      "align_content": null,
      "align_items": null,
      "align_self": null,
      "border": null,
      "bottom": null,
      "display": null,
      "flex": null,
      "flex_flow": null,
      "grid_area": null,
      "grid_auto_columns": null,
      "grid_auto_flow": null,
      "grid_auto_rows": null,
      "grid_column": null,
      "grid_gap": null,
      "grid_row": null,
      "grid_template_areas": null,
      "grid_template_columns": null,
      "grid_template_rows": null,
      "height": null,
      "justify_content": null,
      "justify_items": null,
      "left": null,
      "margin": null,
      "max_height": null,
      "max_width": null,
      "min_height": null,
      "min_width": null,
      "object_fit": null,
      "object_position": null,
      "order": null,
      "overflow": null,
      "overflow_x": null,
      "overflow_y": null,
      "padding": null,
      "right": null,
      "top": null,
      "visibility": null,
      "width": null
     }
    },
    "8d9f3e51ac734b68b1b54c4e404d9bcb": {
     "model_module": "@jupyter-widgets/controls",
     "model_module_version": "1.5.0",
     "model_name": "DescriptionStyleModel",
     "state": {
      "_model_module": "@jupyter-widgets/controls",
      "_model_module_version": "1.5.0",
      "_model_name": "DescriptionStyleModel",
      "_view_count": null,
      "_view_module": "@jupyter-widgets/base",
      "_view_module_version": "1.2.0",
      "_view_name": "StyleView",
      "description_width": ""
     }
    },
    "ccb3f2ec04f442b68eebef0f94b864b2": {
     "model_module": "@jupyter-widgets/controls",
     "model_module_version": "1.5.0",
     "model_name": "DescriptionStyleModel",
     "state": {
      "_model_module": "@jupyter-widgets/controls",
      "_model_module_version": "1.5.0",
      "_model_name": "DescriptionStyleModel",
      "_view_count": null,
      "_view_module": "@jupyter-widgets/base",
      "_view_module_version": "1.2.0",
      "_view_name": "StyleView",
      "description_width": ""
     }
    },
    "e7881f0ba24b42dda30b884aa6c4110b": {
     "model_module": "@jupyter-widgets/controls",
     "model_module_version": "1.5.0",
     "model_name": "HTMLModel",
     "state": {
      "_dom_classes": [],
      "_model_module": "@jupyter-widgets/controls",
      "_model_module_version": "1.5.0",
      "_model_name": "HTMLModel",
      "_view_count": null,
      "_view_module": "@jupyter-widgets/controls",
      "_view_module_version": "1.5.0",
      "_view_name": "HTMLView",
      "description": "",
      "description_tooltip": null,
      "layout": "IPY_MODEL_6614ddd82bc641dcb336281e4227c688",
      "placeholder": "​",
      "style": "IPY_MODEL_ccb3f2ec04f442b68eebef0f94b864b2",
      "value": " 21.4M/21.4M [00:00&lt;00:00, 81.9MB/s]"
     }
    },
    "f96b5241323640dc81f21be9462c613f": {
     "model_module": "@jupyter-widgets/controls",
     "model_module_version": "1.5.0",
     "model_name": "FloatProgressModel",
     "state": {
      "_dom_classes": [],
      "_model_module": "@jupyter-widgets/controls",
      "_model_module_version": "1.5.0",
      "_model_name": "FloatProgressModel",
      "_view_count": null,
      "_view_module": "@jupyter-widgets/controls",
      "_view_module_version": "1.5.0",
      "_view_name": "ProgressView",
      "bar_style": "success",
      "description": "",
      "description_tooltip": null,
      "layout": "IPY_MODEL_75d1b302a99649fbaa203d7bff7ff884",
      "max": 21355344,
      "min": 0,
      "orientation": "horizontal",
      "style": "IPY_MODEL_3db8f537a59c45e4adbde43360b8194c",
      "value": 21355344
     }
    }
   }
  }
 },
 "nbformat": 4,
 "nbformat_minor": 4
}
